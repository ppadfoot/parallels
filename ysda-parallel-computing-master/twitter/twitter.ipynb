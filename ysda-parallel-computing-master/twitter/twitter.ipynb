{
 "cells": [
  {
   "cell_type": "code",
   "execution_count": 1,
   "metadata": {
    "collapsed": true
   },
   "outputs": [],
   "source": [
    "import numpy as np\n",
    "import pandas as pd\n",
    "import matplotlib.pyplot as plt\n",
    "\n",
    "from pyspark.sql import SQLContext\n",
    "from pyspark.sql.types import StructType, StructField, IntegerType, StringType\n",
    "\n",
    "%matplotlib inline"
   ]
  },
  {
   "cell_type": "markdown",
   "metadata": {},
   "source": [
    "В переменной `path` записан путь до директории с файлами `twitter_rv.net` и `numeric2screen.txt`."
   ]
  },
  {
   "cell_type": "code",
   "execution_count": 2,
   "metadata": {
    "collapsed": true
   },
   "outputs": [],
   "source": [
    "sqlContext = SQLContext(sc)\n",
    "path = 'C:/workspace/twitter_rv'"
   ]
  },
  {
   "cell_type": "markdown",
   "metadata": {},
   "source": [
    "Загрузим данные"
   ]
  },
  {
   "cell_type": "code",
   "execution_count": 3,
   "metadata": {},
   "outputs": [
    {
     "name": "stdout",
     "output_type": "stream",
     "text": [
      "root\n",
      " |-- user_id: integer (nullable = true)\n",
      " |-- follower_id: integer (nullable = true)\n",
      "\n"
     ]
    }
   ],
   "source": [
    "t_graph = sqlContext.read.csv(f'{path}/twitter_rv.net', sep='\\t', schema=StructType([\n",
    "    StructField('user_id', IntegerType(), nullable=True),\n",
    "    StructField('follower_id', IntegerType(), nullable=True)\n",
    "]))\n",
    "t_graph.printSchema()"
   ]
  },
  {
   "cell_type": "code",
   "execution_count": 4,
   "metadata": {},
   "outputs": [
    {
     "name": "stdout",
     "output_type": "stream",
     "text": [
      "root\n",
      " |-- user_id: integer (nullable = true)\n",
      " |-- screen_name: string (nullable = true)\n",
      "\n"
     ]
    }
   ],
   "source": [
    "numeric2screen = sqlContext.read.csv(f'{path}/numeric2screen.txt', sep=' ', schema=StructType([\n",
    "    StructField('user_id', IntegerType(), nullable=True),\n",
    "    StructField('screen_name', StringType(), nullable=True)\n",
    "]))\n",
    "numeric2screen.printSchema()"
   ]
  },
  {
   "cell_type": "markdown",
   "metadata": {},
   "source": [
    "Сначала попробуем решить задачу для маленького датасета. Для этого воспользуемся функцией `sample`, которая позволяет взять часть данных, затем получим Pandas датафрейм с помощью функции `toPandas` и сохраним эти данные в csv-файл, а затем загрузим данные снова в переменную `t_graph_trimmed`, дальше будем пользоваться датафреймом из этой переменной."
   ]
  },
  {
   "cell_type": "code",
   "execution_count": 5,
   "metadata": {
    "collapsed": true
   },
   "outputs": [],
   "source": [
    "t_graph_sampled = t_graph.sample(withReplacement=False, fraction=0.0005, seed=42)"
   ]
  },
  {
   "cell_type": "code",
   "execution_count": 6,
   "metadata": {
    "collapsed": true
   },
   "outputs": [],
   "source": [
    "pd_t_graph = t_graph_sampled.toPandas()\n",
    "pd_t_graph.to_csv(f'{path}/twitter_rv.trimmed.net', sep='\\t', header=False, index=False)"
   ]
  },
  {
   "cell_type": "code",
   "execution_count": 7,
   "metadata": {},
   "outputs": [
    {
     "name": "stdout",
     "output_type": "stream",
     "text": [
      "root\n",
      " |-- user_id: integer (nullable = true)\n",
      " |-- follower_id: integer (nullable = true)\n",
      "\n"
     ]
    }
   ],
   "source": [
    "t_graph_trimmed = sqlContext.read.csv(f'{path}/twitter_rv.trimmed.net', sep='\\t', schema=StructType([\n",
    "    StructField('user_id', IntegerType(), nullable=True),\n",
    "    StructField('follower_id', IntegerType(), nullable=True)\n",
    "]))\n",
    "t_graph_trimmed.printSchema()"
   ]
  },
  {
   "cell_type": "markdown",
   "metadata": {},
   "source": [
    "#### 1. Оцените распределение количества подписчиков (фолловеров). Для этого подсчитайте количества пользователей в следующих интервалах по количеству подписчиков: [1,10], [11,100], [101,1000], [1001,10000], [10001,100000] и т. д.\n",
    "\n",
    "Попробуем решить эту задачу. Сначала посчитаем количества пользователей в интервалах для Pandas датафрейма"
   ]
  },
  {
   "cell_type": "code",
   "execution_count": 8,
   "metadata": {},
   "outputs": [
    {
     "name": "stdout",
     "output_type": "stream",
     "text": [
      "Count from 1 to 9: 455482\n",
      "Count from 10 to 99: 2734\n",
      "Count from 100 to 999: 308\n",
      "Count from 1000 to 9999: 5\n",
      "Count from 10000 to 99999: 0\n"
     ]
    },
    {
     "data": {
      "text/plain": [
       "array([[<matplotlib.axes._subplots.AxesSubplot object at 0x000001F395D81668>]], dtype=object)"
      ]
     },
     "execution_count": 8,
     "metadata": {},
     "output_type": "execute_result"
    },
    {
     "data": {
      "image/png": "[encoded data removed]",
      "text/plain": [
       "<matplotlib.figure.Figure at 0x1f395d81a58>"
      ]
     },
     "metadata": {},
     "output_type": "display_data"
    }
   ],
   "source": [
    "c = pd_t_graph.groupby('user_id').count()\n",
    "r = np.logspace(0, 5, num=6, base=10, dtype=np.int)\n",
    "counts = [0]*(len(r) - 1)\n",
    "for i in range(len(r) - 1):\n",
    "    from_ = r[i]\n",
    "    to_ = r[i + 1] - 1\n",
    "    count_ = len(c[(c.follower_id >= from_) & (c.follower_id <= to_)])\n",
    "    counts[i] = count_\n",
    "    print(f'Count from {from_} to {to_}: {count_}')\n",
    "c.hist()"
   ]
  },
  {
   "cell_type": "markdown",
   "metadata": {},
   "source": [
    "Видно, что большинство пользователей в нашей сокращенной выборке имеют от 1 до 9 подписчиков.\n",
    "\n",
    "Теперь попробуем посчитать то же самое для нашего spark-датафрейма:"
   ]
  },
  {
   "cell_type": "code",
   "execution_count": 9,
   "metadata": {
    "scrolled": true
   },
   "outputs": [
    {
     "name": "stdout",
     "output_type": "stream",
     "text": [
      "Count from 1 to 9: 455482\n",
      "Count from 10 to 99: 2734\n",
      "Count from 100 to 999: 308\n",
      "Count from 1000 to 9999: 5\n",
      "Count from 10000 to 99999: 0\n"
     ]
    }
   ],
   "source": [
    "c = t_graph_trimmed.groupby('user_id').count()\n",
    "for i in range(len(r) - 1):\n",
    "    from_ = r[i]\n",
    "    to_ = r[i + 1] - 1\n",
    "    count_ = c.filter(f'count >= {from_} and count <= {to_}').count()\n",
    "    counts[i] = count_\n",
    "    print(f'Count from {from_} to {to_}: {count_}')"
   ]
  },
  {
   "cell_type": "markdown",
   "metadata": {},
   "source": [
    "Очевидно, что несколько раз пересчитывать количество пользователей по количеству подписчиков для каждого интервала неправильно - это займет очень продолжительное время на всех данных.\n",
    "\n",
    "DataFrame API, кажется, не позволяет посчитать количество в интервалах одновременно, поэтому нужно воспользоваться SQL интерфейсом:"
   ]
  },
  {
   "cell_type": "code",
   "execution_count": 10,
   "metadata": {},
   "outputs": [
    {
     "name": "stdout",
     "output_type": "stream",
     "text": [
      "+------+--------+----------+------------+--------------+\n",
      "|1_to_9|10_to_99|100_to_999|1000_to_9999|10000_to_99999|\n",
      "+------+--------+----------+------------+--------------+\n",
      "|455482|    2734|       308|           5|             0|\n",
      "+------+--------+----------+------------+--------------+\n",
      "\n"
     ]
    }
   ],
   "source": [
    "def show_distribution(t_graph, ranges):\n",
    "    t_graph.createOrReplaceTempView('twitter')\n",
    "    count = len(ranges) - 1\n",
    "    count_strs = [None]*count\n",
    "    for i in range(count):\n",
    "        from_ = ranges[i]\n",
    "        to_ = ranges[i + 1] - 1\n",
    "        s = f'count(CASE WHEN followers_count >= {from_} AND followers_count <= {to_} THEN 1 END) AS {from_}_to_{to_}'\n",
    "        count_strs[i] = s\n",
    "\n",
    "    sqlContext.sql(f'''\n",
    "        SELECT {','.join(count_strs)}\n",
    "        FROM (\n",
    "            SELECT user_id, count(user_id) as followers_count FROM twitter\n",
    "            GROUP BY user_id\n",
    "        ) AS group\n",
    "    ''').show(5)\n",
    "\n",
    "show_distribution(t_graph_trimmed, np.logspace(0, 5, num=6, base=10, dtype=np.int))"
   ]
  },
  {
   "cell_type": "markdown",
   "metadata": {},
   "source": [
    "Это работает быстрее чем предыдущий вариант."
   ]
  },
  {
   "cell_type": "markdown",
   "metadata": {},
   "source": [
    "#### 2. Определите Top50 пользователей по количеству подписчиков. Замените идентификаторы пользователей на их имена."
   ]
  },
  {
   "cell_type": "markdown",
   "metadata": {},
   "source": [
    "Это можно сделать с помощью следующего запроса на DataFrame API:"
   ]
  },
  {
   "cell_type": "code",
   "execution_count": 6,
   "metadata": {
    "scrolled": false
   },
   "outputs": [
    {
     "ename": "NameError",
     "evalue": "name 't_graph_trimmed' is not defined",
     "output_type": "error",
     "traceback": [
      "\u001b[1;31m---------------------------------------------------------------------------\u001b[0m",
      "\u001b[1;31mNameError\u001b[0m                                 Traceback (most recent call last)",
      "\u001b[1;32m<ipython-input-6-f0a188c253a5>\u001b[0m in \u001b[0;36m<module>\u001b[1;34m()\u001b[0m\n\u001b[1;32m----> 1\u001b[1;33m (t_graph_trimmed\n\u001b[0m\u001b[0;32m      2\u001b[0m      \u001b[1;33m.\u001b[0m\u001b[0mgroupby\u001b[0m\u001b[1;33m(\u001b[0m\u001b[1;34m'user_id'\u001b[0m\u001b[1;33m)\u001b[0m\u001b[1;33m.\u001b[0m\u001b[0mcount\u001b[0m\u001b[1;33m(\u001b[0m\u001b[1;33m)\u001b[0m\u001b[1;33m\u001b[0m\u001b[0m\n\u001b[0;32m      3\u001b[0m      \u001b[1;33m.\u001b[0m\u001b[0msort\u001b[0m\u001b[1;33m(\u001b[0m\u001b[1;34m'count'\u001b[0m\u001b[1;33m,\u001b[0m \u001b[0mascending\u001b[0m\u001b[1;33m=\u001b[0m\u001b[1;32mFalse\u001b[0m\u001b[1;33m)\u001b[0m\u001b[1;33m\u001b[0m\u001b[0m\n\u001b[0;32m      4\u001b[0m      \u001b[1;33m.\u001b[0m\u001b[0mjoin\u001b[0m\u001b[1;33m(\u001b[0m\u001b[0mnumeric2screen\u001b[0m\u001b[1;33m,\u001b[0m \u001b[1;34m'user_id'\u001b[0m\u001b[1;33m,\u001b[0m \u001b[1;34m'left'\u001b[0m\u001b[1;33m)\u001b[0m\u001b[1;33m\u001b[0m\u001b[0m\n\u001b[0;32m      5\u001b[0m      .show(50))\n",
      "\u001b[1;31mNameError\u001b[0m: name 't_graph_trimmed' is not defined"
     ]
    }
   ],
   "source": [
    "(t_graph_trimmed\n",
    "     .groupby('user_id').count()\n",
    "     .sort('count', ascending=False)\n",
    "     .join(numeric2screen, 'user_id')\n",
    "     .drop('user_id').show(50))"
   ]
  },
  {
   "cell_type": "markdown",
   "metadata": {},
   "source": [
    "#### 3. Вычислите среднее количество подписчиков у пользователя.\n",
    "\n"
   ]
  },
  {
   "cell_type": "code",
   "execution_count": 12,
   "metadata": {},
   "outputs": [
    {
     "data": {
      "text/plain": [
       "follower_id    1.601576\n",
       "dtype: float64"
      ]
     },
     "execution_count": 12,
     "metadata": {},
     "output_type": "execute_result"
    }
   ],
   "source": [
    "pd_t_graph.groupby('user_id').count().mean()"
   ]
  },
  {
   "cell_type": "code",
   "execution_count": 13,
   "metadata": {
    "scrolled": true
   },
   "outputs": [
    {
     "name": "stdout",
     "output_type": "stream",
     "text": [
      "+------------------+\n",
      "|        avg(count)|\n",
      "+------------------+\n",
      "|1.6015759090482826|\n",
      "+------------------+\n",
      "\n"
     ]
    }
   ],
   "source": [
    "t_graph_trimmed.groupby('user_id').count().agg({'count': 'avg'}).show()"
   ]
  },
  {
   "cell_type": "markdown",
   "metadata": {},
   "source": [
    "---"
   ]
  },
  {
   "cell_type": "markdown",
   "metadata": {},
   "source": [
    "Теперь осталось лишь запустить код, написанный выше, на всех данных."
   ]
  },
  {
   "cell_type": "markdown",
   "metadata": {},
   "source": [
    "#### 1. Оцените распределение количества подписчиков (фолловеров)."
   ]
  },
  {
   "cell_type": "code",
   "execution_count": 14,
   "metadata": {},
   "outputs": [
    {
     "name": "stdout",
     "output_type": "stream",
     "text": [
      "+--------+--------+----------+------------+--------------+----------------+------------------+--------------------+\n",
      "|  1_to_9|10_to_99|100_to_999|1000_to_9999|10000_to_99999|100000_to_999999|1000000_to_9999999|10000000_to_99999999|\n",
      "+--------+--------+----------+------------+--------------+----------------+------------------+--------------------+\n",
      "|24406938|14364021|   1186152|      139535|          6205|             359|                71|                   0|\n",
      "+--------+--------+----------+------------+--------------+----------------+------------------+--------------------+\n",
      "\n"
     ]
    }
   ],
   "source": [
    "show_distribution(t_graph, np.logspace(0, 8, num=9, base=10, dtype=np.int))"
   ]
  },
  {
   "cell_type": "markdown",
   "metadata": {},
   "source": [
    "Видно, что больше всего людей имеют от 1 до 9 подписчиков (~24 миллиона), также довольно много от 10 до 99 подписчиков (~14 миллионов)."
   ]
  },
  {
   "cell_type": "markdown",
   "metadata": {},
   "source": [
    "#### 2. Определите Top50 пользователей по количеству подписчиков. Замените идентификаторы пользователей на их имена."
   ]
  },
  {
   "cell_type": "code",
   "execution_count": 7,
   "metadata": {
    "scrolled": false
   },
   "outputs": [
    {
     "name": "stdout",
     "output_type": "stream",
     "text": [
      "+--------+-------+-----------+\n",
      "| user_id|  count|screen_name|\n",
      "+--------+-------+-----------+\n",
      "|19058681|2997469|       null|\n",
      "|15846407|2679639|       null|\n",
      "|16409683|2674874|       null|\n",
      "|  428333|2450749|       null|\n",
      "|19397785|1994926|       null|\n",
      "|  783214|1959708|       null|\n",
      "|16190898|1885782|       null|\n",
      "|  813286|1882889|       null|\n",
      "|19757371|1844499|       null|\n",
      "|17461978|1843561|       null|\n",
      "|25365536|1790771|       null|\n",
      "|19554706|1691919|       null|\n",
      "|15485441|1668193|       null|\n",
      "|18220175|1657119|       null|\n",
      "|16727535|1651207|       null|\n",
      "|  807095|1524048|       null|\n",
      "|18863815|1517067|       null|\n",
      "|27104736|1477423|       null|\n",
      "|14075928|1380160|       null|\n",
      "|17220934|1377332|       null|\n",
      "|18091904|1318909|       null|\n",
      "|18222378|1318378|       null|\n",
      "|20536157|1278103|       null|\n",
      "|21879024|1277163|       null|\n",
      "|19329393|1269341|       null|\n",
      "|16827333|1241331|       null|\n",
      "|      20|1213787|       null|\n",
      "|  972651|1210996|       null|\n",
      "|26885308|1200472|       null|\n",
      "| 6273552|1195089|       null|\n",
      "| 5741722|1193870|       null|\n",
      "|19877186|1191340|       null|\n",
      "|14293310|1189952|       null|\n",
      "| 6211972|1186592|       null|\n",
      "|21324258|1177233|       null|\n",
      "|19637934|1176930|       null|\n",
      "|16264006|1164295|       null|\n",
      "|14515734|1159766|       null|\n",
      "| 2883841|1129659|       null|\n",
      "|19394188|1123254|       null|\n",
      "| 7400702|1119182|       null|\n",
      "|19248106|1116010|       null|\n",
      "|15131310|1112628|       null|\n",
      "|  657863|1110063|       null|\n",
      "|14224719|1105469|       null|\n",
      "|19923144|1103534|       null|\n",
      "|16998020|1083786|       null|\n",
      "| 5248441|1081761|       null|\n",
      "| 7861312|1079749|       null|\n",
      "|17266725|1078763|       null|\n",
      "+--------+-------+-----------+\n",
      "only showing top 50 rows\n",
      "\n"
     ]
    }
   ],
   "source": [
    "(t_graph\n",
    "     .groupby('user_id').count()\n",
    "     .sort('count', ascending=False)\n",
    "     .join(numeric2screen, 'user_id', 'left')\n",
    "     .show(50))"
   ]
  },
  {
   "cell_type": "markdown",
   "metadata": {},
   "source": [
    "Можно обратить внимание, что топ 10 не изменился в сравнении с той частью данных, на которой код запускался ранее."
   ]
  },
  {
   "cell_type": "markdown",
   "metadata": {},
   "source": [
    "#### 3. Вычислите среднее количество подписчиков у пользователя."
   ]
  },
  {
   "cell_type": "code",
   "execution_count": 16,
   "metadata": {},
   "outputs": [
    {
     "name": "stdout",
     "output_type": "stream",
     "text": [
      "+------------------+\n",
      "|        avg(count)|\n",
      "+------------------+\n",
      "|36.614589763864956|\n",
      "+------------------+\n",
      "\n"
     ]
    }
   ],
   "source": [
    "t_graph.groupby('user_id').count().agg({'count': 'avg'}).show()"
   ]
  },
  {
   "cell_type": "markdown",
   "metadata": {},
   "source": [
    "Среднее количество подписчиков у человека выросло с 1.6 до 36.6."
   ]
  }
 ],
 "metadata": {
  "kernelspec": {
   "display_name": "Python 3",
   "language": "python",
   "name": "python3"
  },
  "language_info": {
   "codemirror_mode": {
    "name": "ipython",
    "version": 3
   },
   "file_extension": ".py",
   "mimetype": "text/x-python",
   "name": "python",
   "nbconvert_exporter": "python",
   "pygments_lexer": "ipython3",
   "version": "3.6.3"
  }
 },
 "nbformat": 4,
 "nbformat_minor": 2
}
